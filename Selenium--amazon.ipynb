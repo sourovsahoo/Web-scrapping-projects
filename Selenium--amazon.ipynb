{
 "cells": [
  {
   "cell_type": "markdown",
   "metadata": {},
   "source": [
    "# Web Scraping using Selenium with python(Amazon website)"
   ]
  },
  {
   "cell_type": "raw",
   "metadata": {},
   "source": [
    "Table of contents:-\n",
    "\n",
    "1.Introduction to Web scraping\n",
    "2.Why selenium ??\n",
    "3.Understanding the HTML structure of a website\n",
    "4.Scraping using Selenium\n",
    "\n",
    "5.Demo on Amazon Website"
   ]
  },
  {
   "cell_type": "markdown",
   "metadata": {},
   "source": [
    "# 1.Introduction to Web Scraping"
   ]
  },
  {
   "cell_type": "raw",
   "metadata": {},
   "source": [
    "-->Web scraping is a method used to get great amounts of data from websites.We can perform on the data and do manipulations.\n",
    "-->It extracts information from the internet automatically using a softwrae that simulates human web surfing.\n",
    "-->Collect data from e-commerce portals,social media platforms to understand the customer behaviours,sentimennts,buying pattern are official insight for any business."
   ]
  },
  {
   "cell_type": "markdown",
   "metadata": {},
   "source": [
    "# 2.Why Selenium ???"
   ]
  },
  {
   "cell_type": "raw",
   "metadata": {},
   "source": [
    "-->Selenium is an automation testing framework for web applications which can control the browser to navigate the wbsite just like a human.\n",
    "-->It takes control of the browser and mimic user-oriented actions to bigger desired events like scrolling ,clicking etc."
   ]
  },
  {
   "cell_type": "markdown",
   "metadata": {},
   "source": [
    "# 3.Understanding the HTML structure of the website"
   ]
  },
  {
   "cell_type": "raw",
   "metadata": {},
   "source": [
    "-->1st we visit the website we want to scrape.\n",
    "-->We do right Click-inspect and understand the HTML tree of that page or particular content."
   ]
  },
  {
   "cell_type": "markdown",
   "metadata": {},
   "source": [
    "# 4.Scraping Using Selenium"
   ]
  },
  {
   "cell_type": "markdown",
   "metadata": {},
   "source": [
    "# Demo on Amazon Website\n",
    "Here we are trying to extract the images ,prices ,brands of a type of clothing"
   ]
  },
  {
   "cell_type": "markdown",
   "metadata": {},
   "source": [
    "# Step 1:Import libraries and get the URL of the website"
   ]
  },
  {
   "cell_type": "code",
   "execution_count": 22,
   "metadata": {},
   "outputs": [],
   "source": [
    "from selenium import webdriver\n",
    "import os"
   ]
  },
  {
   "cell_type": "code",
   "execution_count": 23,
   "metadata": {},
   "outputs": [],
   "source": [
    "driver=webdriver.Chrome(executable_path='C:\\\\chromedriver.exe')"
   ]
  },
  {
   "cell_type": "code",
   "execution_count": 24,
   "metadata": {},
   "outputs": [],
   "source": [
    "#below is the link that we get in the chrome tab opened due to the driver used above.\n",
    "#give same link below\n",
    "my_page=driver.get(\"https://www.amazon.com/s?k=womens+kurta&crid=B9SDATNVI2SU&sprefix=womens+kurta%2Caps%2C417&ref=nb_sb_ss_ts-ap-p_1_12\")"
   ]
  },
  {
   "cell_type": "markdown",
   "metadata": {},
   "source": [
    "# Step 2:Making the directory to store images automaticallyby python(optional step)"
   ]
  },
  {
   "cell_type": "code",
   "execution_count": 11,
   "metadata": {},
   "outputs": [],
   "source": [
    "def make_directory(dirname):\n",
    "    current_path=os.getcwd()\n",
    "    path=os.path.join(current_path,dirname)\n",
    "    if not os.path.exists(path):\n",
    "        os.makedirs(path)\n",
    "        \n"
   ]
  },
  {
   "cell_type": "code",
   "execution_count": 12,
   "metadata": {},
   "outputs": [],
   "source": [
    "make_directory('womens ethenic wears')"
   ]
  },
  {
   "cell_type": "markdown",
   "metadata": {},
   "source": [
    "# Step 3:Scraping URLs of image ,brand and prices                                                                                 Syntax below(\"   \"):-\n",
    "driver.find_elements_by_xpath(\"//HTML attribute[@class/span etc.. attribute = 'class name']\")"
   ]
  },
  {
   "cell_type": "code",
   "execution_count": 25,
   "metadata": {},
   "outputs": [],
   "source": [
    "#                                    \"//HTML attribute\n",
    "images=driver.find_elements_by_xpath(\"//img[@class='s-image']\")\n",
    "prices=driver.find_elements_by_xpath(\"//span[@class='a-price-whole']\")\n",
    "product_desc=driver.find_elements_by_xpath(\"//span[@class='a-size-base-plus a-color-base a-text-normal']\")\n",
    "#print(image[0])"
   ]
  },
  {
   "cell_type": "code",
   "execution_count": 26,
   "metadata": {},
   "outputs": [
    {
     "name": "stdout",
     "output_type": "stream",
     "text": [
      "60\n",
      "60\n",
      "52\n"
     ]
    },
    {
     "data": {
      "text/plain": [
       "(None, None, None)"
      ]
     },
     "execution_count": 26,
     "metadata": {},
     "output_type": "execute_result"
    }
   ],
   "source": [
    "print(len(images)),print(len(product_desc)),print(len(prices))"
   ]
  },
  {
   "cell_type": "code",
   "execution_count": 27,
   "metadata": {},
   "outputs": [
    {
     "data": {
      "text/plain": [
       "<selenium.webdriver.remote.webelement.WebElement (session=\"35c954c43d6bdcb043d454123a253183\", element=\"c6d9b6f8-64aa-4751-942e-bfbbdcf22865\")>"
      ]
     },
     "execution_count": 27,
     "metadata": {},
     "output_type": "execute_result"
    }
   ],
   "source": [
    "images[0]"
   ]
  },
  {
   "cell_type": "code",
   "execution_count": 28,
   "metadata": {},
   "outputs": [
    {
     "name": "stdout",
     "output_type": "stream",
     "text": [
      "https://m.media-amazon.com/images/I/61HTSVWDqdL._AC_UL320_.jpg\n",
      "https://m.media-amazon.com/images/I/81ZhFeNr3TL._MCnd_SEARCH281250_AC_UL320_.jpg\n",
      "https://m.media-amazon.com/images/I/61PKTp6WFtL._AC_UL320_.jpg\n",
      "https://m.media-amazon.com/images/I/71WTxTRa1NL._AC_UL320_.jpg\n",
      "https://m.media-amazon.com/images/I/61yToEhwfYL._AC_UL320_.jpg\n",
      "https://m.media-amazon.com/images/I/71A7xtwqNjL._AC_UL320_.jpg\n",
      "https://m.media-amazon.com/images/I/71rd-QBjP8L._AC_UL320_.jpg\n",
      "https://m.media-amazon.com/images/I/81FFLod5nhL._MCnd_SEARCH281250_AC_UL320_.jpg\n",
      "https://m.media-amazon.com/images/I/61Skp0Ave1L._AC_UL320_.jpg\n",
      "https://m.media-amazon.com/images/I/81-QE59+4aL._MCnd_SEARCH281250_AC_UL320_.jpg\n",
      "https://m.media-amazon.com/images/I/71aDQXaMMvL._AC_UL320_.jpg\n",
      "https://m.media-amazon.com/images/I/91oYbk82gzL._AC_UL320_.jpg\n",
      "https://m.media-amazon.com/images/I/71Vnfhuu-2L._MCnd_SEARCH281250_AC_UL320_.jpg\n",
      "https://m.media-amazon.com/images/I/71NjRD0N17L._AC_UL320_.jpg\n",
      "https://m.media-amazon.com/images/I/51zwNjjo1oL._AC_UL320_.jpg\n",
      "https://m.media-amazon.com/images/I/719+rygGWGL._MCnd_SEARCH281250_AC_UL320_.jpg\n",
      "https://m.media-amazon.com/images/I/81YTiKRUAdL._MCnd_SEARCH281250_AC_UL320_.jpg\n",
      "https://m.media-amazon.com/images/I/71k5vGjI4gL._AC_UL320_.jpg\n",
      "https://m.media-amazon.com/images/I/7140ABYo7sL._MCnd_SEARCH281250_AC_UL320_.jpg\n",
      "https://m.media-amazon.com/images/I/71v5LqTrGWL._MCnd_SEARCH281250_AC_UL320_.jpg\n",
      "https://m.media-amazon.com/images/I/71vrb-lAAGL._AC_UL320_.jpg\n",
      "https://m.media-amazon.com/images/I/51aL6l4zpKL._MCnd_SEARCH281250_AC_UL320_.jpg\n",
      "https://m.media-amazon.com/images/I/71ButciZeKL._MCnd_SEARCH281250_AC_UL320_.jpg\n",
      "https://m.media-amazon.com/images/I/61v00H0sAkL._AC_UL320_.jpg\n",
      "https://m.media-amazon.com/images/I/61U5mMxmxXL._MCnd_SEARCH281250_AC_UL320_.jpg\n",
      "https://m.media-amazon.com/images/I/71bqnF5gWoL._MCnd_SEARCH281250_AC_UL320_.jpg\n",
      "https://m.media-amazon.com/images/I/71bqsJE-ntL._MCnd_SEARCH281250_AC_UL320_.jpg\n",
      "https://m.media-amazon.com/images/I/51scRK5FBJL._AC_UL320_.jpg\n",
      "https://m.media-amazon.com/images/I/81EwD4s2t-L._AC_UL320_.jpg\n",
      "https://m.media-amazon.com/images/I/61uLshT7BlL._MCnd_SEARCH281250_AC_UL320_.jpg\n",
      "https://m.media-amazon.com/images/I/810wIGDdDaL._AC_UL320_.jpg\n",
      "https://m.media-amazon.com/images/I/712E0+0jdEL._AC_UL320_.jpg\n",
      "https://m.media-amazon.com/images/I/71DWqyEE8TL._AC_UL320_.jpg\n",
      "https://m.media-amazon.com/images/I/81OVUS07XaL._MCnd_SEARCH281250_AC_UL320_.jpg\n",
      "https://m.media-amazon.com/images/I/71ZaKneV73L._AC_UL320_.jpg\n",
      "https://m.media-amazon.com/images/I/71URBT3zUCL._MCnd_SEARCH281250_AC_UL320_.jpg\n",
      "https://m.media-amazon.com/images/I/71d5NOXa2dL._MCnd_SEARCH281250_AC_UL320_.jpg\n",
      "https://m.media-amazon.com/images/I/710606v+vUL._MCnd_SEARCH281250_AC_UL320_.jpg\n",
      "https://m.media-amazon.com/images/I/81qAdvlYLgL._AC_UL320_.jpg\n",
      "https://m.media-amazon.com/images/I/61pA-gtMdWL._MCnd_SEARCH281250_AC_UL320_.jpg\n",
      "https://m.media-amazon.com/images/I/71upP3S7XAL._AC_UL320_.jpg\n",
      "https://m.media-amazon.com/images/I/61XgTGlQ9DL._AC_UL320_.jpg\n",
      "https://m.media-amazon.com/images/I/81Pxh637kYL._AC_UL320_.jpg\n",
      "https://m.media-amazon.com/images/I/71wtVbEJ7iL._AC_UL320_.jpg\n",
      "https://m.media-amazon.com/images/I/711UH8tWrxL._MCnd_SEARCH281250_AC_UL320_.jpg\n",
      "https://m.media-amazon.com/images/I/81t+fkjX88L._AC_UL320_.jpg\n",
      "https://m.media-amazon.com/images/I/81LjC+EwrVL._AC_UL320_.jpg\n",
      "https://m.media-amazon.com/images/I/71MIMfynAPL._AC_UL320_.jpg\n",
      "https://m.media-amazon.com/images/I/71eBBPacDaL._AC_UL320_.jpg\n",
      "https://m.media-amazon.com/images/I/81ztwvEbZYL._AC_UL320_.jpg\n",
      "https://m.media-amazon.com/images/I/71rq275rIGL._AC_UL320_.jpg\n",
      "https://m.media-amazon.com/images/I/71P+nBzRKBL._AC_UL320_.jpg\n",
      "https://m.media-amazon.com/images/I/61C4Ee5vLWL._AC_UL320_.jpg\n",
      "https://m.media-amazon.com/images/I/713K8R8JKJL._AC_UL320_.jpg\n",
      "https://m.media-amazon.com/images/I/71cIksWE6uL._AC_UL320_.jpg\n",
      "https://m.media-amazon.com/images/I/31TUuT2orcL._AC_UL320_.jpg\n",
      "https://m.media-amazon.com/images/I/61pbD3pesvL._AC_UL320_.jpg\n",
      "https://m.media-amazon.com/images/I/71++jXnbkRL._MCnd_SEARCH281250_AC_UL320_.jpg\n",
      "https://m.media-amazon.com/images/I/51UgjrhTG+L._AC_UL320_.jpg\n",
      "https://m.media-amazon.com/images/I/51OGmtMh6PL._AC_UL320_.jpg\n"
     ]
    }
   ],
   "source": [
    "urls=[]\n",
    "for image in images:\n",
    "    source=image.get_attribute('src')\n",
    "    urls.append(source)\n",
    "    print(source)\n",
    "    "
   ]
  },
  {
   "cell_type": "code",
   "execution_count": 29,
   "metadata": {},
   "outputs": [
    {
     "data": {
      "text/plain": [
       "60"
      ]
     },
     "execution_count": 29,
     "metadata": {},
     "output_type": "execute_result"
    }
   ],
   "source": [
    "len(urls)"
   ]
  },
  {
   "cell_type": "markdown",
   "metadata": {},
   "source": [
    "# Step 4:Using the URLs to download images"
   ]
  },
  {
   "cell_type": "code",
   "execution_count": 30,
   "metadata": {},
   "outputs": [],
   "source": [
    "import shutil\n",
    "import requests"
   ]
  },
  {
   "cell_type": "code",
   "execution_count": 35,
   "metadata": {},
   "outputs": [
    {
     "name": "stdout",
     "output_type": "stream",
     "text": [
      "Downloading 1 of 60 images from page 1\n",
      "Downloading 2 of 60 images from page 1\n",
      "Downloading 3 of 60 images from page 1\n",
      "Downloading 4 of 60 images from page 1\n",
      "Downloading 5 of 60 images from page 1\n",
      "Downloading 6 of 60 images from page 1\n",
      "Downloading 7 of 60 images from page 1\n",
      "Downloading 8 of 60 images from page 1\n",
      "Downloading 9 of 60 images from page 1\n",
      "Downloading 10 of 60 images from page 1\n",
      "Downloading 11 of 60 images from page 1\n",
      "Downloading 12 of 60 images from page 1\n",
      "Downloading 13 of 60 images from page 1\n",
      "Downloading 14 of 60 images from page 1\n",
      "Downloading 15 of 60 images from page 1\n",
      "Downloading 16 of 60 images from page 1\n",
      "Downloading 17 of 60 images from page 1\n",
      "Downloading 18 of 60 images from page 1\n",
      "Downloading 19 of 60 images from page 1\n",
      "Downloading 20 of 60 images from page 1\n",
      "Downloading 21 of 60 images from page 1\n",
      "Downloading 22 of 60 images from page 1\n",
      "Downloading 23 of 60 images from page 1\n",
      "Downloading 24 of 60 images from page 1\n",
      "Downloading 25 of 60 images from page 1\n",
      "Downloading 26 of 60 images from page 1\n",
      "Downloading 27 of 60 images from page 1\n",
      "Downloading 28 of 60 images from page 1\n",
      "Downloading 29 of 60 images from page 1\n",
      "Downloading 30 of 60 images from page 1\n",
      "Downloading 31 of 60 images from page 1\n",
      "Downloading 32 of 60 images from page 1\n",
      "Downloading 33 of 60 images from page 1\n",
      "Downloading 34 of 60 images from page 1\n",
      "Downloading 35 of 60 images from page 1\n",
      "Downloading 36 of 60 images from page 1\n",
      "Downloading 37 of 60 images from page 1\n",
      "Downloading 38 of 60 images from page 1\n",
      "Downloading 39 of 60 images from page 1\n",
      "Downloading 40 of 60 images from page 1\n",
      "Downloading 41 of 60 images from page 1\n",
      "Downloading 42 of 60 images from page 1\n",
      "Downloading 43 of 60 images from page 1\n",
      "Downloading 44 of 60 images from page 1\n",
      "Downloading 45 of 60 images from page 1\n",
      "Downloading 46 of 60 images from page 1\n",
      "Downloading 47 of 60 images from page 1\n",
      "Downloading 48 of 60 images from page 1\n",
      "Downloading 49 of 60 images from page 1\n",
      "Downloading 50 of 60 images from page 1\n",
      "Downloading 51 of 60 images from page 1\n",
      "Downloading 52 of 60 images from page 1\n",
      "Downloading 53 of 60 images from page 1\n",
      "Downloading 54 of 60 images from page 1\n",
      "Downloading 55 of 60 images from page 1\n",
      "Downloading 56 of 60 images from page 1\n",
      "Downloading 57 of 60 images from page 1\n",
      "Downloading 58 of 60 images from page 1\n",
      "Downloading 59 of 60 images from page 1\n",
      "Downloading 60 of 60 images from page 1\n"
     ]
    }
   ],
   "source": [
    "pages=1 #change this to 2 and 3 and so on.. for scraping next pages so that our previous page image data does not ge replaced by the new next(2nd page) image datas.\n",
    "for index,link in enumerate(urls):\n",
    "    print(\"Downloading {0} of {1} images from page 1\".format(index+1,len(urls)))\n",
    "    response=requests.get(link)\n",
    "    with open(\"womens ethenic wears/img.{0}{1}.jpeg\".format(index,pages),\"wb\") as file:\n",
    "        file.write(response.content)"
   ]
  },
  {
   "cell_type": "code",
   "execution_count": 38,
   "metadata": {},
   "outputs": [
    {
     "data": {
      "text/plain": [
       "{'prices': [], 'product_desc': []}"
      ]
     },
     "execution_count": 38,
     "metadata": {},
     "output_type": "execute_result"
    }
   ],
   "source": [
    "product_data={}\n",
    "product_data['prices']=[]\n",
    "product_data['product_desc']=[]\n",
    "product_data"
   ]
  },
  {
   "cell_type": "code",
   "execution_count": 39,
   "metadata": {},
   "outputs": [
    {
     "data": {
      "text/plain": [
       "52"
      ]
     },
     "execution_count": 39,
     "metadata": {},
     "output_type": "execute_result"
    }
   ],
   "source": [
    "for price in prices:\n",
    "    product_data['prices'].append(price.text)\n",
    "#We are using .text becaz th xpath selected previous is storing all the data inside my HTML tags(span,img src ETC..)  in selenium object file.\n",
    "#But to operate in notebook we need the data in text format.so we are coverting here the selenium objet to text format.\n",
    "\n",
    "    \n",
    "len(product_data['prices'])"
   ]
  },
  {
   "cell_type": "code",
   "execution_count": 40,
   "metadata": {},
   "outputs": [
    {
     "data": {
      "text/plain": [
       "'36'"
      ]
     },
     "execution_count": 40,
     "metadata": {},
     "output_type": "execute_result"
    }
   ],
   "source": [
    "product_data['prices'][0]"
   ]
  },
  {
   "cell_type": "code",
   "execution_count": 42,
   "metadata": {},
   "outputs": [
    {
     "data": {
      "text/plain": [
       "60"
      ]
     },
     "execution_count": 42,
     "metadata": {},
     "output_type": "execute_result"
    }
   ],
   "source": [
    "for pd in product_desc:\n",
    "    product_data['product_desc'].append(pd.text)\n",
    "    \n",
    "len(product_data['product_desc'])"
   ]
  },
  {
   "cell_type": "code",
   "execution_count": 44,
   "metadata": {},
   "outputs": [
    {
     "data": {
      "text/plain": [
       "{'prices': ['36',\n",
       "  '24',\n",
       "  '26',\n",
       "  '26',\n",
       "  '32',\n",
       "  '31',\n",
       "  '33',\n",
       "  '25',\n",
       "  '19',\n",
       "  '31',\n",
       "  '29',\n",
       "  '28',\n",
       "  '44',\n",
       "  '18',\n",
       "  '30',\n",
       "  '50',\n",
       "  '15',\n",
       "  '42',\n",
       "  '25',\n",
       "  '34',\n",
       "  '22',\n",
       "  '30',\n",
       "  '25',\n",
       "  '31',\n",
       "  '45',\n",
       "  '25',\n",
       "  '34',\n",
       "  '31',\n",
       "  '38',\n",
       "  '25',\n",
       "  '23',\n",
       "  '25',\n",
       "  '36',\n",
       "  '37',\n",
       "  '26',\n",
       "  '29',\n",
       "  '29',\n",
       "  '18',\n",
       "  '26',\n",
       "  '31',\n",
       "  '24',\n",
       "  '29',\n",
       "  '23',\n",
       "  '26',\n",
       "  '24',\n",
       "  '21',\n",
       "  '18',\n",
       "  '23',\n",
       "  '29',\n",
       "  '34',\n",
       "  '32',\n",
       "  '34'],\n",
       " 'product_desc': [\"ladyline Women's Cotton Ethnic Printed Tunic Top Front Slit Roll-Up Sleeves Buttons Down Neck Pocket Long Kurti Kurta\",\n",
       "  \"Janasya Women's White Pure Cotton Kurta\",\n",
       "  'aurelia Essential Round Neck Kurta for Women',\n",
       "  \"Janasya Women's Light Green Poly Crepe Kurta\",\n",
       "  \"Women's Pure Cotton Plain Tunic Top Front Slit 3/4 Sleeves Roll-UP Chinese Ne.\",\n",
       "  'Homma Premium Ultra Soft High Rise Waist Full Length Regular and Plus Size Leggings',\n",
       "  \"Janasya Women's Blue Rayon Kurta with Palazzo\",\n",
       "  'Sabhyata Women Designer Straight Kurta Kurti top Tunic 3/4 Sleeves Printed Solid.',\n",
       "  'Phagun Cotton Plain Kurti Tunic Mandarin Collar Ethnic Casual Kurta Blouse',\n",
       "  \"Janasya Women's Multicolor Pure Cotton Kurta with Palazzo\",\n",
       "  \"ladyline Women's Pure Cotton Printed Tunic Top 3/4 Sleeves Roll-up Button Neck Short Kurti Kurta\",\n",
       "  'AV Hand Block Printed V Neck Tunic',\n",
       "  'Chandrakala Kurti Palazzo Set for Women 100% Cotton Indian Kurta Set(K137)',\n",
       "  \"Women's 3/4 Sleeve Boho Shirts Embroidered Peasant Top\",\n",
       "  'Ayurvastram Pure Cotton, Hand Embroidered Shirt Tunic Top Kurti Blouse',\n",
       "  'HIRAL DESIGNER Women Indian Kurta Kurtis Dress for Women Casual Anarkali Kurti Long Dress',\n",
       "  \"Janasya Women's Yellow Poly Crepe Kurta\",\n",
       "  'ladyline Rayon Chikhan Embroidered Kurti for Womens Tunic Top Indian Kurta Sweet Heart Neck',\n",
       "  'Janasya Indian Tunic Tops Crepe Kurti for Women',\n",
       "  'Janasya Indian Tunic Tops Rayon Kurti Set for Women',\n",
       "  'Janasya Indian Tunic Tops Crepe Kurti for Women',\n",
       "  'Romacci Women Boho Dress Casual Irregular Maxi Dresses Layer Vintage Loose Long Sleeve Linen Dress with Pockets',\n",
       "  \"Janasya Women's Red Poly Crepe Kurta\",\n",
       "  \"ladyline Women's Pure Cotton Plain Tunic Top 3/4 Sleeves Roll-up Button Neck with Pocket Long Kurti Kurta\",\n",
       "  'HIRAL DESIGNER Indian Rayon Cotton Kurti with Palazzo for Women Dresses Kurta Set Ready to Wear',\n",
       "  \"Janasya Women's Pink Pure Cotton Kurta\",\n",
       "  'Janasya Indian Tunic Tops Crepe Kurti Set for Women',\n",
       "  'Ayurvastram Pure Cotton Round Neck, Hand Embroidered Tunic, Top, Kurti, Blouse',\n",
       "  'Ayurvastram Pure Cotton Hand Embroidered Boho Peasant Blouse Top Tunic',\n",
       "  'ladyline Rich Cotton Embroidered Kurti for Womens Ethnic Printed Sleeves Indian Kurta Womens Tunic',\n",
       "  'Janasya Indian Tunic Tops Cotton Kurti for Women',\n",
       "  'Janasya Indian Tunic Tops Poly Silk Kurti for Women',\n",
       "  'Janasya Indian Tunic Tops Cotton Kurti for Women',\n",
       "  'Janasya Indian Tunic Tops Crepe Kurti for Women',\n",
       "  \"Janasya Women's Purple Poly Silk Kurta\",\n",
       "  \"Janasya Women's Mustard Poly Crepe Kurta\",\n",
       "  'Janasya Indian Tunic Tops Cotton Kurti Set for Women',\n",
       "  'Janasya Indian Tunic Tops Cotton Kurti Set for Women',\n",
       "  'Janasya Indian Tunic Tops Crepe Kurti for Women',\n",
       "  \"Janasya Women's Yellow Poly Crepe Kurta\",\n",
       "  \"Aurelia Women's Blue Color Block Boat Neck Kurta\",\n",
       "  \"aurelia Women's Pink Geometric Band Collar Kurta Tunic Top\",\n",
       "  \"Urban CoCo Women's Long Sleeve Boho Shirt Embroidered Top\",\n",
       "  'Ladyline Womens Causal Printed 100% Cotton Kurtis Tunic Womens Top',\n",
       "  'Janasya Indian Tunic Tops Crepe Kurti Set for Women',\n",
       "  'Maple Clothing Indian Tunics Kurti Long Top Womens Plus Size Apparel',\n",
       "  'Janasya Indian Tunic Tops Crepe Kurti for Women',\n",
       "  'Janasya Indian Tunic Tops Cotton Kurti for Women',\n",
       "  \"Chandrakala Women's Solid 100% Cotton Indian Ethnic Tunic Top Kurti Kurta(K101)\",\n",
       "  'Janasya Indian Tunic Tops Cotton Kurti for Women',\n",
       "  'Janasya Indian Tunic Tops Crepe Kurti for Women',\n",
       "  \"Janasya Women's Black Pure Cotton Kurta\",\n",
       "  'Janasya Indian Tunic Tops Cotton Kurti for Women',\n",
       "  \"Lagi Women designer straight A-Line kurti top kurta tunic dress ‘Mother’s Day gift'\",\n",
       "  \"Urban CoCo Women's Long Sleeve Boho Shirt Embroidered Top\",\n",
       "  'Creativegifts Women Lucknowi Chikankari Embroidery Kurti/Kurta/Top M (DB016UHDR9M)',\n",
       "  'Ayurvastram Pure Cotton Hand Embroidered Long Placket Dress, Tunic, Kurti, Top, Swim Suit Cover',\n",
       "  'ladyline Handloom Cotton Casual Embroidered Kurtis for Womens Indian Kurta Tunic Dress',\n",
       "  'DREAMANGEL FASHION Women Rayon Gold Printed Round Neck Anarkali Ocassional Wear Kurta',\n",
       "  'DREAMANGEL FASHION Womens Cotton Round Neck Anarkali Casual Kurta (X-Large 40, White)']}"
      ]
     },
     "execution_count": 44,
     "metadata": {},
     "output_type": "execute_result"
    }
   ],
   "source": [
    "product_data"
   ]
  },
  {
   "cell_type": "markdown",
   "metadata": {},
   "source": [
    "# Step 5:Moving to the next page"
   ]
  },
  {
   "cell_type": "code",
   "execution_count": null,
   "metadata": {},
   "outputs": [],
   "source": [
    "#                                       next button inspect\n",
    "next_pages=driver.find_element_by_xpath(\"//li[@class='a-last']//a\").click()\n",
    "#                                             #anchor tag so //a\",not present in next button when inspect."
   ]
  },
  {
   "cell_type": "code",
   "execution_count": null,
   "metadata": {},
   "outputs": [],
   "source": [
    "#                                    \"//HTML attribute\n",
    "images=driver.find_elements_by_xpath(\"//img[@class='s-image']\")\n",
    "prices=driver.find_elements_by_xpath(\"//span[@class='a-price-whole']\")\n",
    "product_desc=driver.find_elements_by_xpath(\"//span[@class='a-size-base-plus a-color-base a-text-normal']\")\n",
    "#print(image[0])"
   ]
  },
  {
   "cell_type": "code",
   "execution_count": null,
   "metadata": {},
   "outputs": [],
   "source": [
    "prices[0]"
   ]
  },
  {
   "cell_type": "code",
   "execution_count": null,
   "metadata": {},
   "outputs": [],
   "source": [
    "len(prices),len(product_desc),len(images)"
   ]
  },
  {
   "cell_type": "code",
   "execution_count": null,
   "metadata": {},
   "outputs": [],
   "source": [
    "urls=[]\n",
    "for image in images:\n",
    "    source=image.get_attribute('src')\n",
    "    urls.append(source)\n",
    "    print(source)\n",
    "    "
   ]
  },
  {
   "cell_type": "code",
   "execution_count": null,
   "metadata": {},
   "outputs": [],
   "source": [
    "pages=2 #change this to 3 and 4 and so on.. for scraping next pages so that our previous page image data does not ge replaced by the new next(2nd page) image datas.\n",
    "for index,link in enumerate(urls):\n",
    "    print(\"Downloading {0} of {1} images from page 1\".format(index+1,len(urls)))\n",
    "    response=requests.get(link)\n",
    "    with open(\"womens ethenic wears/img.{0}{1}.jpeg\".format(index,pages),\"wb\") as file:\n",
    "        file.write(response.content)"
   ]
  },
  {
   "cell_type": "code",
   "execution_count": null,
   "metadata": {},
   "outputs": [],
   "source": [
    "for price in prices:\n",
    "    product_data['prices'].append(price.text)\n",
    "#We are using .text becaz th xpath selected previous is storing all the data inside my HTML tags(span,img src ETC..)  in selenium object file.\n",
    "#But to operate in notebook we need the data in text format.so we are coverting here the selenium objet to text format.\n",
    "\n",
    "    \n",
    "len(product_data['prices'])"
   ]
  },
  {
   "cell_type": "code",
   "execution_count": null,
   "metadata": {},
   "outputs": [],
   "source": [
    "for pd in product_desc:\n",
    "    product_data['product_desc'].append(pd.text)\n",
    "    \n",
    "len(product_data['product_desc'])"
   ]
  },
  {
   "cell_type": "code",
   "execution_count": null,
   "metadata": {},
   "outputs": [],
   "source": [
    "len(product_data['prices']),len(product_data['product_desc'])\n",
    "#Sometime due to offers and all going on website is very dynamic.\n",
    "#So some data might not be downloaded.such data are NAN \n",
    "#So before we change our data to pandas DataFrame,we remove such null values"
   ]
  },
  {
   "cell_type": "code",
   "execution_count": null,
   "metadata": {},
   "outputs": [],
   "source": [
    "import pandas as pd\n",
    "df=pd.DataFrame(product_data)\n",
    "df.to_csv('product_data.csv',mode='a',encoding='utf-8-sig')"
   ]
  },
  {
   "cell_type": "code",
   "execution_count": null,
   "metadata": {},
   "outputs": [],
   "source": []
  },
  {
   "cell_type": "code",
   "execution_count": null,
   "metadata": {},
   "outputs": [],
   "source": []
  }
 ],
 "metadata": {
  "kernelspec": {
   "display_name": "Python 3",
   "language": "python",
   "name": "python3"
  },
  "language_info": {
   "codemirror_mode": {
    "name": "ipython",
    "version": 3
   },
   "file_extension": ".py",
   "mimetype": "text/x-python",
   "name": "python",
   "nbconvert_exporter": "python",
   "pygments_lexer": "ipython3",
   "version": "3.8.3"
  }
 },
 "nbformat": 4,
 "nbformat_minor": 4
}
